{
 "cells": [
  {
   "cell_type": "code",
   "execution_count": 1,
   "metadata": {},
   "outputs": [],
   "source": [
    "## Update sklearn to prevent version mismatches\n",
    "# !pip install sklearn --upgrade"
   ]
  },
  {
   "cell_type": "code",
   "execution_count": 2,
   "metadata": {},
   "outputs": [],
   "source": [
    "## install joblib. This will be used to save your model. \n",
    "## Restart your kernel after installing \n",
    "#!pip install joblib"
   ]
  },
  {
   "cell_type": "code",
   "execution_count": 3,
   "metadata": {},
   "outputs": [],
   "source": [
    "# Basic dependiecies\n",
    "import pandas as pd\n",
    "# To save model\n",
    "import joblib"
   ]
  },
  {
   "cell_type": "code",
   "execution_count": 4,
   "metadata": {},
   "outputs": [],
   "source": [
    "# sklearn imports\n",
    "from sklearn.model_selection import train_test_split\n",
    "from sklearn.model_selection import GridSearchCV\n",
    "\n",
    "## SCALER\n",
    "from sklearn.preprocessing import StandardScaler, LabelEncoder\n",
    "#from sklearn.preprocessing import MinMaxScaler, LabelEncoder\n",
    "\n",
    "## MODELS\n",
    "#from sklearn.svm import SVC \n",
    "#from sklearn.linear_model import LogisticRegression\n",
    "from sklearn.ensemble import RandomForestClassifier\n"
   ]
  },
  {
   "cell_type": "markdown",
   "metadata": {},
   "source": [
    "# Read the CSV and Perform Basic Data Cleaning"
   ]
  },
  {
   "cell_type": "code",
   "execution_count": 5,
   "metadata": {
    "scrolled": true
   },
   "outputs": [
    {
     "name": "stdout",
     "output_type": "stream",
     "text": [
      "Count of pre-dropped data: 240\n",
      "The final count of data is: 240\n"
     ]
    },
    {
     "data": {
      "text/html": [
       "<div>\n",
       "<style scoped>\n",
       "    .dataframe tbody tr th:only-of-type {\n",
       "        vertical-align: middle;\n",
       "    }\n",
       "\n",
       "    .dataframe tbody tr th {\n",
       "        vertical-align: top;\n",
       "    }\n",
       "\n",
       "    .dataframe thead th {\n",
       "        text-align: right;\n",
       "    }\n",
       "</style>\n",
       "<table border=\"1\" class=\"dataframe\">\n",
       "  <thead>\n",
       "    <tr style=\"text-align: right;\">\n",
       "      <th></th>\n",
       "      <th>Temperature</th>\n",
       "      <th>L</th>\n",
       "      <th>R</th>\n",
       "      <th>A_M</th>\n",
       "      <th>Color</th>\n",
       "      <th>Spectral_Class</th>\n",
       "      <th>Type</th>\n",
       "    </tr>\n",
       "  </thead>\n",
       "  <tbody>\n",
       "    <tr>\n",
       "      <th>0</th>\n",
       "      <td>3068</td>\n",
       "      <td>0.002400</td>\n",
       "      <td>0.1700</td>\n",
       "      <td>16.12</td>\n",
       "      <td>Red</td>\n",
       "      <td>M</td>\n",
       "      <td>0</td>\n",
       "    </tr>\n",
       "    <tr>\n",
       "      <th>1</th>\n",
       "      <td>3042</td>\n",
       "      <td>0.000500</td>\n",
       "      <td>0.1542</td>\n",
       "      <td>16.60</td>\n",
       "      <td>Red</td>\n",
       "      <td>M</td>\n",
       "      <td>0</td>\n",
       "    </tr>\n",
       "    <tr>\n",
       "      <th>2</th>\n",
       "      <td>2600</td>\n",
       "      <td>0.000300</td>\n",
       "      <td>0.1020</td>\n",
       "      <td>18.70</td>\n",
       "      <td>Red</td>\n",
       "      <td>M</td>\n",
       "      <td>0</td>\n",
       "    </tr>\n",
       "    <tr>\n",
       "      <th>3</th>\n",
       "      <td>2800</td>\n",
       "      <td>0.000200</td>\n",
       "      <td>0.1600</td>\n",
       "      <td>16.65</td>\n",
       "      <td>Red</td>\n",
       "      <td>M</td>\n",
       "      <td>0</td>\n",
       "    </tr>\n",
       "    <tr>\n",
       "      <th>4</th>\n",
       "      <td>1939</td>\n",
       "      <td>0.000138</td>\n",
       "      <td>0.1030</td>\n",
       "      <td>20.06</td>\n",
       "      <td>Red</td>\n",
       "      <td>M</td>\n",
       "      <td>0</td>\n",
       "    </tr>\n",
       "  </tbody>\n",
       "</table>\n",
       "</div>"
      ],
      "text/plain": [
       "   Temperature         L       R    A_M Color Spectral_Class  Type\n",
       "0         3068  0.002400  0.1700  16.12   Red              M     0\n",
       "1         3042  0.000500  0.1542  16.60   Red              M     0\n",
       "2         2600  0.000300  0.1020  18.70   Red              M     0\n",
       "3         2800  0.000200  0.1600  16.65   Red              M     0\n",
       "4         1939  0.000138  0.1030  20.06   Red              M     0"
      ]
     },
     "execution_count": 5,
     "metadata": {},
     "output_type": "execute_result"
    }
   ],
   "source": [
    "stars_df = pd.read_csv(\"../ETL/Resources/cleaned_data/stars_classification.csv\")\n",
    "print(f'Count of pre-dropped data: {len(stars_df)}')\n",
    "\n",
    "# Drop the null columns where all values are null\n",
    "stars_df = stars_df.dropna(axis='columns', how='all')\n",
    "# Drop the null rows\n",
    "stars_df = stars_df.dropna()\n",
    "stars_df = stars_df.drop(['Unnamed: 0'], axis=1)\n",
    "\n",
    "print(f'The final count of data is: {len(stars_df)}')\n",
    "stars_df.head()"
   ]
  },
  {
   "cell_type": "code",
   "execution_count": 6,
   "metadata": {},
   "outputs": [
    {
     "data": {
      "text/plain": [
       "array(['Red', 'Blue White', 'White', 'Yellowish White', 'Blue white',\n",
       "       'Pale yellow orange', 'Blue', 'Blue-white', 'Whitish',\n",
       "       'yellow-white', 'Orange', 'White-Yellow', 'white', 'yellowish',\n",
       "       'Yellowish', 'Orange-Red', 'Blue-White'], dtype=object)"
      ]
     },
     "execution_count": 6,
     "metadata": {},
     "output_type": "execute_result"
    }
   ],
   "source": [
    "stars_df['Color'].unique()"
   ]
  },
  {
   "cell_type": "code",
   "execution_count": 7,
   "metadata": {},
   "outputs": [],
   "source": [
    "# Need to turn color into number (convert categorial data)\n",
    "label_encoder = LabelEncoder()\n",
    "label_encoder.fit(stars_df['Color'])\n",
    "\n",
    "stars_df['Color'] = label_encoder.transform(stars_df['Color'])"
   ]
  },
  {
   "cell_type": "code",
   "execution_count": 8,
   "metadata": {},
   "outputs": [
    {
     "data": {
      "text/plain": [
       "array([ 8,  1,  9, 13,  2,  7,  0,  4, 11, 15,  5, 10, 14, 16, 12,  6,  3])"
      ]
     },
     "execution_count": 8,
     "metadata": {},
     "output_type": "execute_result"
    }
   ],
   "source": [
    "stars_df['Color'].unique()"
   ]
  },
  {
   "cell_type": "code",
   "execution_count": 9,
   "metadata": {},
   "outputs": [
    {
     "data": {
      "text/html": [
       "<div>\n",
       "<style scoped>\n",
       "    .dataframe tbody tr th:only-of-type {\n",
       "        vertical-align: middle;\n",
       "    }\n",
       "\n",
       "    .dataframe tbody tr th {\n",
       "        vertical-align: top;\n",
       "    }\n",
       "\n",
       "    .dataframe thead th {\n",
       "        text-align: right;\n",
       "    }\n",
       "</style>\n",
       "<table border=\"1\" class=\"dataframe\">\n",
       "  <thead>\n",
       "    <tr style=\"text-align: right;\">\n",
       "      <th></th>\n",
       "      <th>color</th>\n",
       "      <th>color_number</th>\n",
       "    </tr>\n",
       "  </thead>\n",
       "  <tbody>\n",
       "    <tr>\n",
       "      <th>0</th>\n",
       "      <td>Red</td>\n",
       "      <td>8</td>\n",
       "    </tr>\n",
       "    <tr>\n",
       "      <th>1</th>\n",
       "      <td>Blue White</td>\n",
       "      <td>1</td>\n",
       "    </tr>\n",
       "    <tr>\n",
       "      <th>2</th>\n",
       "      <td>White</td>\n",
       "      <td>9</td>\n",
       "    </tr>\n",
       "    <tr>\n",
       "      <th>3</th>\n",
       "      <td>Yellowish White</td>\n",
       "      <td>13</td>\n",
       "    </tr>\n",
       "    <tr>\n",
       "      <th>4</th>\n",
       "      <td>Blue white</td>\n",
       "      <td>2</td>\n",
       "    </tr>\n",
       "    <tr>\n",
       "      <th>5</th>\n",
       "      <td>Pale yellow orange</td>\n",
       "      <td>7</td>\n",
       "    </tr>\n",
       "    <tr>\n",
       "      <th>6</th>\n",
       "      <td>Blue</td>\n",
       "      <td>0</td>\n",
       "    </tr>\n",
       "    <tr>\n",
       "      <th>7</th>\n",
       "      <td>Blue-white</td>\n",
       "      <td>4</td>\n",
       "    </tr>\n",
       "    <tr>\n",
       "      <th>8</th>\n",
       "      <td>Whitish</td>\n",
       "      <td>11</td>\n",
       "    </tr>\n",
       "    <tr>\n",
       "      <th>9</th>\n",
       "      <td>yellow-white</td>\n",
       "      <td>15</td>\n",
       "    </tr>\n",
       "    <tr>\n",
       "      <th>10</th>\n",
       "      <td>Orange</td>\n",
       "      <td>5</td>\n",
       "    </tr>\n",
       "    <tr>\n",
       "      <th>11</th>\n",
       "      <td>White-Yellow</td>\n",
       "      <td>10</td>\n",
       "    </tr>\n",
       "    <tr>\n",
       "      <th>12</th>\n",
       "      <td>white</td>\n",
       "      <td>14</td>\n",
       "    </tr>\n",
       "    <tr>\n",
       "      <th>13</th>\n",
       "      <td>yellowish</td>\n",
       "      <td>16</td>\n",
       "    </tr>\n",
       "    <tr>\n",
       "      <th>14</th>\n",
       "      <td>Yellowish</td>\n",
       "      <td>12</td>\n",
       "    </tr>\n",
       "    <tr>\n",
       "      <th>15</th>\n",
       "      <td>Orange-Red</td>\n",
       "      <td>6</td>\n",
       "    </tr>\n",
       "    <tr>\n",
       "      <th>16</th>\n",
       "      <td>Blue-White</td>\n",
       "      <td>3</td>\n",
       "    </tr>\n",
       "  </tbody>\n",
       "</table>\n",
       "</div>"
      ],
      "text/plain": [
       "                 color  color_number\n",
       "0                  Red             8\n",
       "1           Blue White             1\n",
       "2                White             9\n",
       "3      Yellowish White            13\n",
       "4           Blue white             2\n",
       "5   Pale yellow orange             7\n",
       "6                 Blue             0\n",
       "7           Blue-white             4\n",
       "8              Whitish            11\n",
       "9         yellow-white            15\n",
       "10              Orange             5\n",
       "11        White-Yellow            10\n",
       "12               white            14\n",
       "13           yellowish            16\n",
       "14           Yellowish            12\n",
       "15          Orange-Red             6\n",
       "16          Blue-White             3"
      ]
     },
     "execution_count": 9,
     "metadata": {},
     "output_type": "execute_result"
    }
   ],
   "source": [
    "colors = ['Red', 'Blue White', 'White', 'Yellowish White', 'Blue white',\n",
    "       'Pale yellow orange', 'Blue', 'Blue-white', 'Whitish',\n",
    "       'yellow-white', 'Orange', 'White-Yellow', 'white', 'yellowish',\n",
    "       'Yellowish', 'Orange-Red', 'Blue-White']\n",
    "color_number = [ 8,  1,  9, 13,  2,  7,  0,  4, 11, 15,  5, 10, 14, 16, 12,  6,  3]\n",
    "\n",
    "color_type_dict = {'color': colors, 'color_number': color_number}\n",
    "color_type_df = pd.DataFrame(color_type_dict)\n",
    "color_type_df"
   ]
  },
  {
   "cell_type": "code",
   "execution_count": 10,
   "metadata": {},
   "outputs": [],
   "source": [
    "## Need to scale due to number of color ranging from 0-16..?\n",
    "\n",
    "\n",
    "# stars_df['Color'] = StandardScaler(stars_df['Color']).fit()\n",
    "# stars_df['Color'] = X_scaler.transform(stars_df['Color'])\n",
    "# stars_df['Color'].unique()"
   ]
  },
  {
   "cell_type": "code",
   "execution_count": 11,
   "metadata": {},
   "outputs": [
    {
     "data": {
      "text/plain": [
       "array(['M', 'B', 'A', 'F', 'O', 'K', 'G'], dtype=object)"
      ]
     },
     "execution_count": 11,
     "metadata": {},
     "output_type": "execute_result"
    }
   ],
   "source": [
    "stars_df['Spectral_Class'].unique()"
   ]
  },
  {
   "cell_type": "code",
   "execution_count": 12,
   "metadata": {},
   "outputs": [],
   "source": [
    "# Need to turn spectrial class into number (convert categorial data)\n",
    "label_encoder = LabelEncoder()\n",
    "label_encoder.fit(stars_df['Spectral_Class'])\n",
    "\n",
    "stars_df['Spectral_Class'] = label_encoder.transform(stars_df['Spectral_Class'])"
   ]
  },
  {
   "cell_type": "code",
   "execution_count": 13,
   "metadata": {},
   "outputs": [
    {
     "data": {
      "text/plain": [
       "array([5, 1, 0, 2, 6, 4, 3])"
      ]
     },
     "execution_count": 13,
     "metadata": {},
     "output_type": "execute_result"
    }
   ],
   "source": [
    "stars_df['Spectral_Class'].unique()"
   ]
  },
  {
   "cell_type": "code",
   "execution_count": 14,
   "metadata": {},
   "outputs": [
    {
     "data": {
      "text/html": [
       "<div>\n",
       "<style scoped>\n",
       "    .dataframe tbody tr th:only-of-type {\n",
       "        vertical-align: middle;\n",
       "    }\n",
       "\n",
       "    .dataframe tbody tr th {\n",
       "        vertical-align: top;\n",
       "    }\n",
       "\n",
       "    .dataframe thead th {\n",
       "        text-align: right;\n",
       "    }\n",
       "</style>\n",
       "<table border=\"1\" class=\"dataframe\">\n",
       "  <thead>\n",
       "    <tr style=\"text-align: right;\">\n",
       "      <th></th>\n",
       "      <th>spectral_class</th>\n",
       "      <th>spec_number</th>\n",
       "    </tr>\n",
       "  </thead>\n",
       "  <tbody>\n",
       "    <tr>\n",
       "      <th>0</th>\n",
       "      <td>M</td>\n",
       "      <td>5</td>\n",
       "    </tr>\n",
       "    <tr>\n",
       "      <th>1</th>\n",
       "      <td>B</td>\n",
       "      <td>1</td>\n",
       "    </tr>\n",
       "    <tr>\n",
       "      <th>2</th>\n",
       "      <td>A</td>\n",
       "      <td>0</td>\n",
       "    </tr>\n",
       "    <tr>\n",
       "      <th>3</th>\n",
       "      <td>F</td>\n",
       "      <td>2</td>\n",
       "    </tr>\n",
       "    <tr>\n",
       "      <th>4</th>\n",
       "      <td>O</td>\n",
       "      <td>6</td>\n",
       "    </tr>\n",
       "    <tr>\n",
       "      <th>5</th>\n",
       "      <td>K</td>\n",
       "      <td>4</td>\n",
       "    </tr>\n",
       "    <tr>\n",
       "      <th>6</th>\n",
       "      <td>G</td>\n",
       "      <td>3</td>\n",
       "    </tr>\n",
       "  </tbody>\n",
       "</table>\n",
       "</div>"
      ],
      "text/plain": [
       "  spectral_class  spec_number\n",
       "0              M            5\n",
       "1              B            1\n",
       "2              A            0\n",
       "3              F            2\n",
       "4              O            6\n",
       "5              K            4\n",
       "6              G            3"
      ]
     },
     "execution_count": 14,
     "metadata": {},
     "output_type": "execute_result"
    }
   ],
   "source": [
    "spec_class = ['M', 'B', 'A', 'F', 'O', 'K', 'G']\n",
    "spec_number = [5, 1, 0, 2, 6, 4, 3]\n",
    "\n",
    "spectral_class_dict = {'spectral_class': spec_class, 'spec_number': spec_number}\n",
    "spectral_class_df = pd.DataFrame(spectral_class_dict)\n",
    "spectral_class_df"
   ]
  },
  {
   "cell_type": "code",
   "execution_count": 15,
   "metadata": {},
   "outputs": [
    {
     "data": {
      "text/html": [
       "<div>\n",
       "<style scoped>\n",
       "    .dataframe tbody tr th:only-of-type {\n",
       "        vertical-align: middle;\n",
       "    }\n",
       "\n",
       "    .dataframe tbody tr th {\n",
       "        vertical-align: top;\n",
       "    }\n",
       "\n",
       "    .dataframe thead th {\n",
       "        text-align: right;\n",
       "    }\n",
       "</style>\n",
       "<table border=\"1\" class=\"dataframe\">\n",
       "  <thead>\n",
       "    <tr style=\"text-align: right;\">\n",
       "      <th></th>\n",
       "      <th>Temperature</th>\n",
       "      <th>L</th>\n",
       "      <th>R</th>\n",
       "      <th>A_M</th>\n",
       "      <th>Color</th>\n",
       "      <th>Spectral_Class</th>\n",
       "      <th>Type</th>\n",
       "    </tr>\n",
       "  </thead>\n",
       "  <tbody>\n",
       "    <tr>\n",
       "      <th>Temperature</th>\n",
       "      <td>1.000000</td>\n",
       "      <td>0.393404</td>\n",
       "      <td>0.064216</td>\n",
       "      <td>-0.420261</td>\n",
       "      <td>-0.680107</td>\n",
       "      <td>-0.207852</td>\n",
       "      <td>0.411129</td>\n",
       "    </tr>\n",
       "    <tr>\n",
       "      <th>L</th>\n",
       "      <td>0.393404</td>\n",
       "      <td>1.000000</td>\n",
       "      <td>0.526516</td>\n",
       "      <td>-0.692619</td>\n",
       "      <td>-0.379181</td>\n",
       "      <td>0.275280</td>\n",
       "      <td>0.676845</td>\n",
       "    </tr>\n",
       "    <tr>\n",
       "      <th>R</th>\n",
       "      <td>0.064216</td>\n",
       "      <td>0.526516</td>\n",
       "      <td>1.000000</td>\n",
       "      <td>-0.608728</td>\n",
       "      <td>-0.011242</td>\n",
       "      <td>0.097124</td>\n",
       "      <td>0.660975</td>\n",
       "    </tr>\n",
       "    <tr>\n",
       "      <th>A_M</th>\n",
       "      <td>-0.420261</td>\n",
       "      <td>-0.692619</td>\n",
       "      <td>-0.608728</td>\n",
       "      <td>1.000000</td>\n",
       "      <td>0.328318</td>\n",
       "      <td>-0.085840</td>\n",
       "      <td>-0.955276</td>\n",
       "    </tr>\n",
       "    <tr>\n",
       "      <th>Color</th>\n",
       "      <td>-0.680107</td>\n",
       "      <td>-0.379181</td>\n",
       "      <td>-0.011242</td>\n",
       "      <td>0.328318</td>\n",
       "      <td>1.000000</td>\n",
       "      <td>0.018774</td>\n",
       "      <td>-0.304993</td>\n",
       "    </tr>\n",
       "    <tr>\n",
       "      <th>Spectral_Class</th>\n",
       "      <td>-0.207852</td>\n",
       "      <td>0.275280</td>\n",
       "      <td>0.097124</td>\n",
       "      <td>-0.085840</td>\n",
       "      <td>0.018774</td>\n",
       "      <td>1.000000</td>\n",
       "      <td>-0.049131</td>\n",
       "    </tr>\n",
       "    <tr>\n",
       "      <th>Type</th>\n",
       "      <td>0.411129</td>\n",
       "      <td>0.676845</td>\n",
       "      <td>0.660975</td>\n",
       "      <td>-0.955276</td>\n",
       "      <td>-0.304993</td>\n",
       "      <td>-0.049131</td>\n",
       "      <td>1.000000</td>\n",
       "    </tr>\n",
       "  </tbody>\n",
       "</table>\n",
       "</div>"
      ],
      "text/plain": [
       "                Temperature         L         R       A_M     Color  \\\n",
       "Temperature        1.000000  0.393404  0.064216 -0.420261 -0.680107   \n",
       "L                  0.393404  1.000000  0.526516 -0.692619 -0.379181   \n",
       "R                  0.064216  0.526516  1.000000 -0.608728 -0.011242   \n",
       "A_M               -0.420261 -0.692619 -0.608728  1.000000  0.328318   \n",
       "Color             -0.680107 -0.379181 -0.011242  0.328318  1.000000   \n",
       "Spectral_Class    -0.207852  0.275280  0.097124 -0.085840  0.018774   \n",
       "Type               0.411129  0.676845  0.660975 -0.955276 -0.304993   \n",
       "\n",
       "                Spectral_Class      Type  \n",
       "Temperature          -0.207852  0.411129  \n",
       "L                     0.275280  0.676845  \n",
       "R                     0.097124  0.660975  \n",
       "A_M                  -0.085840 -0.955276  \n",
       "Color                 0.018774 -0.304993  \n",
       "Spectral_Class        1.000000 -0.049131  \n",
       "Type                 -0.049131  1.000000  "
      ]
     },
     "execution_count": 15,
     "metadata": {},
     "output_type": "execute_result"
    }
   ],
   "source": [
    "# Check for direct correlations within columns to see if they need be dropped.\n",
    "stars_df.corr()"
   ]
  },
  {
   "cell_type": "code",
   "execution_count": 16,
   "metadata": {},
   "outputs": [
    {
     "name": "stdout",
     "output_type": "stream",
     "text": [
      "<class 'pandas.core.frame.DataFrame'>\n",
      "Int64Index: 240 entries, 0 to 239\n",
      "Data columns (total 7 columns):\n",
      " #   Column          Non-Null Count  Dtype  \n",
      "---  ------          --------------  -----  \n",
      " 0   Temperature     240 non-null    int64  \n",
      " 1   L               240 non-null    float64\n",
      " 2   R               240 non-null    float64\n",
      " 3   A_M             240 non-null    float64\n",
      " 4   Color           240 non-null    int32  \n",
      " 5   Spectral_Class  240 non-null    int32  \n",
      " 6   Type            240 non-null    int64  \n",
      "dtypes: float64(3), int32(2), int64(2)\n",
      "memory usage: 13.1 KB\n"
     ]
    }
   ],
   "source": [
    "stars_df.info()"
   ]
  },
  {
   "cell_type": "markdown",
   "metadata": {},
   "source": [
    "# Select your features (columns)"
   ]
  },
  {
   "cell_type": "code",
   "execution_count": 17,
   "metadata": {},
   "outputs": [
    {
     "data": {
      "text/html": [
       "<div>\n",
       "<style scoped>\n",
       "    .dataframe tbody tr th:only-of-type {\n",
       "        vertical-align: middle;\n",
       "    }\n",
       "\n",
       "    .dataframe tbody tr th {\n",
       "        vertical-align: top;\n",
       "    }\n",
       "\n",
       "    .dataframe thead th {\n",
       "        text-align: right;\n",
       "    }\n",
       "</style>\n",
       "<table border=\"1\" class=\"dataframe\">\n",
       "  <thead>\n",
       "    <tr style=\"text-align: right;\">\n",
       "      <th></th>\n",
       "      <th>Temperature</th>\n",
       "      <th>L</th>\n",
       "      <th>R</th>\n",
       "      <th>A_M</th>\n",
       "      <th>Color</th>\n",
       "      <th>Spectral_Class</th>\n",
       "    </tr>\n",
       "  </thead>\n",
       "  <tbody>\n",
       "    <tr>\n",
       "      <th>0</th>\n",
       "      <td>3068</td>\n",
       "      <td>0.002400</td>\n",
       "      <td>0.1700</td>\n",
       "      <td>16.12</td>\n",
       "      <td>8</td>\n",
       "      <td>5</td>\n",
       "    </tr>\n",
       "    <tr>\n",
       "      <th>1</th>\n",
       "      <td>3042</td>\n",
       "      <td>0.000500</td>\n",
       "      <td>0.1542</td>\n",
       "      <td>16.60</td>\n",
       "      <td>8</td>\n",
       "      <td>5</td>\n",
       "    </tr>\n",
       "    <tr>\n",
       "      <th>2</th>\n",
       "      <td>2600</td>\n",
       "      <td>0.000300</td>\n",
       "      <td>0.1020</td>\n",
       "      <td>18.70</td>\n",
       "      <td>8</td>\n",
       "      <td>5</td>\n",
       "    </tr>\n",
       "    <tr>\n",
       "      <th>3</th>\n",
       "      <td>2800</td>\n",
       "      <td>0.000200</td>\n",
       "      <td>0.1600</td>\n",
       "      <td>16.65</td>\n",
       "      <td>8</td>\n",
       "      <td>5</td>\n",
       "    </tr>\n",
       "    <tr>\n",
       "      <th>4</th>\n",
       "      <td>1939</td>\n",
       "      <td>0.000138</td>\n",
       "      <td>0.1030</td>\n",
       "      <td>20.06</td>\n",
       "      <td>8</td>\n",
       "      <td>5</td>\n",
       "    </tr>\n",
       "  </tbody>\n",
       "</table>\n",
       "</div>"
      ],
      "text/plain": [
       "   Temperature         L       R    A_M  Color  Spectral_Class\n",
       "0         3068  0.002400  0.1700  16.12      8               5\n",
       "1         3042  0.000500  0.1542  16.60      8               5\n",
       "2         2600  0.000300  0.1020  18.70      8               5\n",
       "3         2800  0.000200  0.1600  16.65      8               5\n",
       "4         1939  0.000138  0.1030  20.06      8               5"
      ]
     },
     "execution_count": 17,
     "metadata": {},
     "output_type": "execute_result"
    }
   ],
   "source": [
    "# Set features. This will also be used as your x values.\n",
    "selected_features_df = stars_df.drop(['Type'], axis=1)\n",
    "selected_features_df.head()"
   ]
  },
  {
   "cell_type": "markdown",
   "metadata": {},
   "source": [
    "# Create a Train Test Split\n",
    "\n",
    "Use `koi_disposition` for the y values"
   ]
  },
  {
   "cell_type": "code",
   "execution_count": 18,
   "metadata": {},
   "outputs": [
    {
     "name": "stdout",
     "output_type": "stream",
     "text": [
      "(240, 6) (240,)\n"
     ]
    }
   ],
   "source": [
    "X = selected_features_df\n",
    "y = stars_df['Type']\n",
    "#.values.reshape(-1, 1)\n",
    "print(X.shape, y.shape)"
   ]
  },
  {
   "cell_type": "code",
   "execution_count": 19,
   "metadata": {},
   "outputs": [],
   "source": [
    "# Create train and test values from our data set \n",
    "#from sklearn.model_selection import train_test_split\n",
    "\n",
    "X_train, X_test, y_train, y_test = train_test_split(X, y, random_state=42, stratify=y)"
   ]
  },
  {
   "cell_type": "code",
   "execution_count": 20,
   "metadata": {},
   "outputs": [
    {
     "name": "stdout",
     "output_type": "stream",
     "text": [
      "The length of the X train data is: 180\n"
     ]
    },
    {
     "data": {
      "text/html": [
       "<div>\n",
       "<style scoped>\n",
       "    .dataframe tbody tr th:only-of-type {\n",
       "        vertical-align: middle;\n",
       "    }\n",
       "\n",
       "    .dataframe tbody tr th {\n",
       "        vertical-align: top;\n",
       "    }\n",
       "\n",
       "    .dataframe thead th {\n",
       "        text-align: right;\n",
       "    }\n",
       "</style>\n",
       "<table border=\"1\" class=\"dataframe\">\n",
       "  <thead>\n",
       "    <tr style=\"text-align: right;\">\n",
       "      <th></th>\n",
       "      <th>Temperature</th>\n",
       "      <th>L</th>\n",
       "      <th>R</th>\n",
       "      <th>A_M</th>\n",
       "      <th>Color</th>\n",
       "      <th>Spectral_Class</th>\n",
       "    </tr>\n",
       "  </thead>\n",
       "  <tbody>\n",
       "    <tr>\n",
       "      <th>71</th>\n",
       "      <td>3607</td>\n",
       "      <td>0.02200</td>\n",
       "      <td>0.380</td>\n",
       "      <td>10.12</td>\n",
       "      <td>8</td>\n",
       "      <td>5</td>\n",
       "    </tr>\n",
       "    <tr>\n",
       "      <th>221</th>\n",
       "      <td>12749</td>\n",
       "      <td>332520.00000</td>\n",
       "      <td>76.000</td>\n",
       "      <td>-7.02</td>\n",
       "      <td>0</td>\n",
       "      <td>6</td>\n",
       "    </tr>\n",
       "    <tr>\n",
       "      <th>170</th>\n",
       "      <td>3570</td>\n",
       "      <td>320000.00000</td>\n",
       "      <td>1480.000</td>\n",
       "      <td>-7.58</td>\n",
       "      <td>8</td>\n",
       "      <td>5</td>\n",
       "    </tr>\n",
       "    <tr>\n",
       "      <th>16</th>\n",
       "      <td>2799</td>\n",
       "      <td>0.00180</td>\n",
       "      <td>0.160</td>\n",
       "      <td>14.79</td>\n",
       "      <td>8</td>\n",
       "      <td>5</td>\n",
       "    </tr>\n",
       "    <tr>\n",
       "      <th>65</th>\n",
       "      <td>3295</td>\n",
       "      <td>0.00098</td>\n",
       "      <td>0.132</td>\n",
       "      <td>17.13</td>\n",
       "      <td>8</td>\n",
       "      <td>5</td>\n",
       "    </tr>\n",
       "  </tbody>\n",
       "</table>\n",
       "</div>"
      ],
      "text/plain": [
       "     Temperature             L         R    A_M  Color  Spectral_Class\n",
       "71          3607       0.02200     0.380  10.12      8               5\n",
       "221        12749  332520.00000    76.000  -7.02      0               6\n",
       "170         3570  320000.00000  1480.000  -7.58      8               5\n",
       "16          2799       0.00180     0.160  14.79      8               5\n",
       "65          3295       0.00098     0.132  17.13      8               5"
      ]
     },
     "execution_count": 20,
     "metadata": {},
     "output_type": "execute_result"
    }
   ],
   "source": [
    "print(f'The length of the X train data is: {len(X_train)}')\n",
    "X_train.head()"
   ]
  },
  {
   "cell_type": "code",
   "execution_count": 21,
   "metadata": {},
   "outputs": [
    {
     "data": {
      "text/plain": [
       "71     1\n",
       "221    4\n",
       "170    5\n",
       "16     1\n",
       "65     0\n",
       "      ..\n",
       "114    5\n",
       "194    1\n",
       "31     3\n",
       "222    4\n",
       "166    4\n",
       "Name: Type, Length: 180, dtype: int64"
      ]
     },
     "execution_count": 21,
     "metadata": {},
     "output_type": "execute_result"
    }
   ],
   "source": [
    "y_train"
   ]
  },
  {
   "cell_type": "markdown",
   "metadata": {},
   "source": [
    "# Pre-processing\n",
    "\n",
    "Scale the data using the MinMaxScaler and perform some feature selection"
   ]
  },
  {
   "cell_type": "code",
   "execution_count": 22,
   "metadata": {},
   "outputs": [],
   "source": [
    "# Create a Scaler model and fit it to the training data\n",
    "\n",
    "X_scaler = StandardScaler().fit(X_train)\n",
    "\n",
    "#X_scaler = MinMaxScaler().fit(X_train)"
   ]
  },
  {
   "cell_type": "code",
   "execution_count": 23,
   "metadata": {},
   "outputs": [],
   "source": [
    "X_train_scaled = X_scaler.transform(X_train)\n",
    "X_test_scaled = X_scaler.transform(X_test)\n",
    "\n",
    "# Y is categorical do not scale"
   ]
  },
  {
   "cell_type": "code",
   "execution_count": 24,
   "metadata": {},
   "outputs": [
    {
     "data": {
      "text/plain": [
       "array([[-0.71997007, -0.58815959, -0.45925746,  0.54855423,  0.44320609,\n",
       "         0.60945143],\n",
       "       [ 0.28696345,  1.33297227, -0.31089374, -1.09103733, -1.41748422,\n",
       "         1.09271688],\n",
       "       [-0.72404539,  1.26063806,  2.44370379, -1.14460624,  0.44320609,\n",
       "         0.60945143],\n",
       "       ...,\n",
       "       [ 2.18705207, -0.42153682, -0.44764264, -0.82127955, -0.48713906,\n",
       "        -1.32361037],\n",
       "       [-0.08378018,  1.39317375, -0.26773053, -1.08721097, -1.41748422,\n",
       "         1.09271688],\n",
       "       [ 1.07713421,  0.29001923, -0.31677963, -0.96381114, -1.41748422,\n",
       "         1.09271688]])"
      ]
     },
     "execution_count": 24,
     "metadata": {},
     "output_type": "execute_result"
    }
   ],
   "source": [
    "X_train_scaled"
   ]
  },
  {
   "cell_type": "markdown",
   "metadata": {},
   "source": [
    "# Train the Model\n",
    "\n"
   ]
  },
  {
   "cell_type": "code",
   "execution_count": 25,
   "metadata": {},
   "outputs": [],
   "source": [
    "## Support vector machine model\n",
    "#model = SVC(kernel='linear')\n",
    "\n",
    "## Logistic Regression\n",
    "#model = LogisticRegression()\n",
    "\n",
    "## Random Tree classifier\n",
    "model = RandomForestClassifier(n_estimators=200)"
   ]
  },
  {
   "cell_type": "code",
   "execution_count": 26,
   "metadata": {},
   "outputs": [
    {
     "data": {
      "text/plain": [
       "array([5, 0, 4, 3, 3, 0, 1, 1, 0, 1, 0, 2, 2, 4, 4, 0, 0, 3, 4, 4, 3, 1,\n",
       "       2, 5, 1, 5, 1, 4, 5, 3, 5, 5, 5, 4, 0, 2, 2, 0, 3, 1, 4, 3, 2, 3,\n",
       "       3, 4, 0, 1, 0, 2, 5, 3, 2, 2, 5, 1, 1, 2, 4, 5], dtype=int64)"
      ]
     },
     "execution_count": 26,
     "metadata": {},
     "output_type": "execute_result"
    }
   ],
   "source": [
    "# make predictions while fitting data\n",
    "model.fit(X_train_scaled, y_train)\n",
    "predictions = model.predict(X_test_scaled)\n",
    "predictions"
   ]
  },
  {
   "cell_type": "code",
   "execution_count": 27,
   "metadata": {},
   "outputs": [
    {
     "name": "stdout",
     "output_type": "stream",
     "text": [
      "Training Data Score: 1.0\n",
      "Testing Data Score: 1.0\n"
     ]
    }
   ],
   "source": [
    "print(f\"Training Data Score: {model.score(X_train_scaled, y_train)}\")\n",
    "print(f\"Testing Data Score: {model.score(X_test_scaled, y_test)}\")"
   ]
  },
  {
   "cell_type": "markdown",
   "metadata": {},
   "source": [
    "# Hyperparameter Tuning\n",
    "\n",
    "Use `GridSearchCV` to tune the model's parameters"
   ]
  },
  {
   "cell_type": "code",
   "execution_count": 28,
   "metadata": {},
   "outputs": [],
   "source": [
    "# Create the GridSearchCV model\n",
    "\n",
    "## SVC params\n",
    "# param_grid = {'C': [1, 5, 10, 50],'gamma': [0.0001, 0.0005, 0.001, 0.005]}\n",
    "\n",
    "## Linear regression params\n",
    "#param_grid = {'C': [1, 5, 10, 50],'max_iter':[200, 500, 1000]}\n",
    "\n",
    "## Random Tree params\n",
    "param_grid = {'max_depth': [3, 5, 10], 'min_samples_split': [2, 5, 10]}\n",
    "\n",
    "\n",
    "grid = GridSearchCV(model, param_grid, verbose=3)"
   ]
  },
  {
   "cell_type": "code",
   "execution_count": 29,
   "metadata": {},
   "outputs": [
    {
     "name": "stdout",
     "output_type": "stream",
     "text": [
      "Fitting 5 folds for each of 9 candidates, totalling 45 fits\n",
      "[CV 1/5] END ...............max_depth=3, min_samples_split=2; total time=   0.1s\n",
      "[CV 2/5] END ...............max_depth=3, min_samples_split=2; total time=   0.1s\n",
      "[CV 3/5] END ...............max_depth=3, min_samples_split=2; total time=   0.1s\n",
      "[CV 4/5] END ...............max_depth=3, min_samples_split=2; total time=   0.1s\n",
      "[CV 5/5] END ...............max_depth=3, min_samples_split=2; total time=   0.1s\n",
      "[CV 1/5] END ...............max_depth=3, min_samples_split=5; total time=   0.1s\n",
      "[CV 2/5] END ...............max_depth=3, min_samples_split=5; total time=   0.1s\n",
      "[CV 3/5] END ...............max_depth=3, min_samples_split=5; total time=   0.1s\n",
      "[CV 4/5] END ...............max_depth=3, min_samples_split=5; total time=   0.1s\n",
      "[CV 5/5] END ...............max_depth=3, min_samples_split=5; total time=   0.1s\n",
      "[CV 1/5] END ..............max_depth=3, min_samples_split=10; total time=   0.1s\n",
      "[CV 2/5] END ..............max_depth=3, min_samples_split=10; total time=   0.1s\n",
      "[CV 3/5] END ..............max_depth=3, min_samples_split=10; total time=   0.1s\n",
      "[CV 4/5] END ..............max_depth=3, min_samples_split=10; total time=   0.1s\n",
      "[CV 5/5] END ..............max_depth=3, min_samples_split=10; total time=   0.1s\n",
      "[CV 1/5] END ...............max_depth=5, min_samples_split=2; total time=   0.1s\n",
      "[CV 2/5] END ...............max_depth=5, min_samples_split=2; total time=   0.1s\n",
      "[CV 3/5] END ...............max_depth=5, min_samples_split=2; total time=   0.1s\n",
      "[CV 4/5] END ...............max_depth=5, min_samples_split=2; total time=   0.1s\n",
      "[CV 5/5] END ...............max_depth=5, min_samples_split=2; total time=   0.1s\n",
      "[CV 1/5] END ...............max_depth=5, min_samples_split=5; total time=   0.1s\n",
      "[CV 2/5] END ...............max_depth=5, min_samples_split=5; total time=   0.1s\n",
      "[CV 3/5] END ...............max_depth=5, min_samples_split=5; total time=   0.1s\n",
      "[CV 4/5] END ...............max_depth=5, min_samples_split=5; total time=   0.1s\n",
      "[CV 5/5] END ...............max_depth=5, min_samples_split=5; total time=   0.1s\n",
      "[CV 1/5] END ..............max_depth=5, min_samples_split=10; total time=   0.1s\n",
      "[CV 2/5] END ..............max_depth=5, min_samples_split=10; total time=   0.1s\n",
      "[CV 3/5] END ..............max_depth=5, min_samples_split=10; total time=   0.1s\n",
      "[CV 4/5] END ..............max_depth=5, min_samples_split=10; total time=   0.1s\n",
      "[CV 5/5] END ..............max_depth=5, min_samples_split=10; total time=   0.1s\n",
      "[CV 1/5] END ..............max_depth=10, min_samples_split=2; total time=   0.1s\n",
      "[CV 2/5] END ..............max_depth=10, min_samples_split=2; total time=   0.1s\n",
      "[CV 3/5] END ..............max_depth=10, min_samples_split=2; total time=   0.1s\n",
      "[CV 4/5] END ..............max_depth=10, min_samples_split=2; total time=   0.1s\n",
      "[CV 5/5] END ..............max_depth=10, min_samples_split=2; total time=   0.1s\n",
      "[CV 1/5] END ..............max_depth=10, min_samples_split=5; total time=   0.1s\n",
      "[CV 2/5] END ..............max_depth=10, min_samples_split=5; total time=   0.1s\n",
      "[CV 3/5] END ..............max_depth=10, min_samples_split=5; total time=   0.1s\n",
      "[CV 4/5] END ..............max_depth=10, min_samples_split=5; total time=   0.1s\n",
      "[CV 5/5] END ..............max_depth=10, min_samples_split=5; total time=   0.1s\n",
      "[CV 1/5] END .............max_depth=10, min_samples_split=10; total time=   0.1s\n",
      "[CV 2/5] END .............max_depth=10, min_samples_split=10; total time=   0.1s\n",
      "[CV 3/5] END .............max_depth=10, min_samples_split=10; total time=   0.1s\n",
      "[CV 4/5] END .............max_depth=10, min_samples_split=10; total time=   0.1s\n",
      "[CV 5/5] END .............max_depth=10, min_samples_split=10; total time=   0.1s\n"
     ]
    },
    {
     "data": {
      "text/plain": [
       "GridSearchCV(estimator=RandomForestClassifier(n_estimators=200),\n",
       "             param_grid={'max_depth': [3, 5, 10],\n",
       "                         'min_samples_split': [2, 5, 10]},\n",
       "             verbose=3)"
      ]
     },
     "execution_count": 29,
     "metadata": {},
     "output_type": "execute_result"
    }
   ],
   "source": [
    "# Train the model with GridSearch\n",
    " # Fit the model using the grid search estimator. \n",
    "# This will take the SVC model and try each combination of parameters\n",
    "grid.fit(X_train_scaled, y_train)"
   ]
  },
  {
   "cell_type": "code",
   "execution_count": 30,
   "metadata": {},
   "outputs": [
    {
     "name": "stdout",
     "output_type": "stream",
     "text": [
      "Grid Params: {'max_depth': 3, 'min_samples_split': 10}\n",
      "Best grid Score: 0.9944444444444445\n"
     ]
    }
   ],
   "source": [
    "print(f'Grid Params: {grid.best_params_}')\n",
    "print(f'Best grid Score: {grid.best_score_}')"
   ]
  },
  {
   "cell_type": "markdown",
   "metadata": {},
   "source": [
    "# Save the Model"
   ]
  },
  {
   "cell_type": "code",
   "execution_count": 31,
   "metadata": {},
   "outputs": [],
   "source": [
    "# filename = '../Saved_Models/standard_scalar_SCV_gridSearch.sav'\n",
    "# joblib.dump(model, filename)"
   ]
  },
  {
   "cell_type": "code",
   "execution_count": null,
   "metadata": {},
   "outputs": [],
   "source": []
  }
 ],
 "metadata": {
  "kernel_info": {
   "name": "dev"
  },
  "kernelspec": {
   "display_name": "Python [conda env:PythonAdv]",
   "language": "python",
   "name": "conda-env-PythonAdv-py"
  },
  "language_info": {
   "codemirror_mode": {
    "name": "ipython",
    "version": 3
   },
   "file_extension": ".py",
   "mimetype": "text/x-python",
   "name": "python",
   "nbconvert_exporter": "python",
   "pygments_lexer": "ipython3",
   "version": "3.6.13"
  },
  "nteract": {
   "version": "0.12.3"
  }
 },
 "nbformat": 4,
 "nbformat_minor": 2
}
