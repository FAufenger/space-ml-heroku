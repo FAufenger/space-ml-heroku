{
 "cells": [
  {
   "cell_type": "code",
   "execution_count": 1,
   "metadata": {},
   "outputs": [],
   "source": [
    "# Import dependencies\n",
    "import pandas as pd\n",
    "import numpy as np\n",
    "from datetime import datetime\n",
    "\n",
    "import sqlalchemy\n",
    "from sqlalchemy import create_engine, MetaData, PrimaryKeyConstraint\n",
    "from sqlalchemy.ext.declarative import declarative_base\n",
    "from sqlalchemy import Column, Integer, String, Numeric, Text, Float, Date, Time"
   ]
  },
  {
   "cell_type": "code",
   "execution_count": 2,
   "metadata": {},
   "outputs": [],
   "source": [
    "# Save csv files to variables\n",
    "asteroid_csv = [\"../Resources/cleaned_data/asteroid_impacts.csv\", \"../Resources/cleaned_data/asteroid_orbits.csv\"]\n",
    "stars_csv = \"../Resources/cleaned_data/stars_classification.csv\"\n",
    "ufo_csv = \"../Resources/cleaned_data/ufo_sightings.csv\""
   ]
  },
  {
   "cell_type": "code",
   "execution_count": 3,
   "metadata": {},
   "outputs": [],
   "source": [
    "# Start your engines!\n",
    "engine = create_engine(\"sqlite:///../../space_DB.sqlite\")\n",
    "conn = engine.connect()"
   ]
  },
  {
   "cell_type": "code",
   "execution_count": 4,
   "metadata": {},
   "outputs": [],
   "source": [
    "# Create base\n",
    "Base = declarative_base()"
   ]
  },
  {
   "cell_type": "markdown",
   "metadata": {},
   "source": [
    "### Use SQLAlchemy to model table schema"
   ]
  },
  {
   "cell_type": "code",
   "execution_count": 5,
   "metadata": {},
   "outputs": [],
   "source": [
    "# Asteroids\n",
    "class impacts(Base):\n",
    "    __tablename__ = \"asteroid_impacts\"\n",
    "    \n",
    "    id = Column(Integer, primary_key=True)\n",
    "    object_name = Column(Text)\n",
    "    period_start = Column(Integer)\n",
    "    period_end = Column(Integer)\n",
    "    possible_impacts = Column(Float)\n",
    "    cumulative_impact_probability = Column(Float)\n",
    "    asteroid_velocity = Column(Float)\n",
    "    asteroid_magnitude = Column(Float)\n",
    "    asteroid_diameter_km = Column(Float)\n",
    "    cumulative_palermo_scale = Column(Float)\n",
    "    maximum_palermo_scale = Column(Float)"
   ]
  },
  {
   "cell_type": "code",
   "execution_count": 6,
   "metadata": {},
   "outputs": [],
   "source": [
    "class orbits(Base):\n",
    "    __tablename__ = \"asteroid_orbits\"\n",
    "    \n",
    "    id = Column(Integer, primary_key=True)\n",
    "    object_name = Column(Text)\n",
    "    object_classification = Column(Text)\n",
    "    epoch_TDB = Column(Integer)\n",
    "    orbit_axis_AU = Column(Float)\n",
    "    orbit_eccentricity = Column(Float)\n",
    "    orbit_inclination_deg = Column(Float)\n",
    "    perihelion_argument_deg = Column(Float)\n",
    "    node_longitude_deg = Column(Float)\n",
    "    mean_anomoly_deg = Column(Float)\n",
    "    perihelion_distance_AU = Column(Float)\n",
    "    aphelion_distance_AU = Column(Float)\n",
    "    orbital_period_yr = Column(Float)\n",
    "    minimum_orbit_intersection_distance_AU = Column(Float)\n",
    "    orbital_reference = Column(Float)\n",
    "    asteroid_magnitude = Column(Float)"
   ]
  },
  {
   "cell_type": "code",
   "execution_count": 7,
   "metadata": {},
   "outputs": [],
   "source": [
    "# Stars\n",
    "class stars(Base):\n",
    "    __tablename__ = \"star_classification\"\n",
    "    \n",
    "    id = Column(Integer, primary_key=True)\n",
    "    Temperature = Column(Integer)\n",
    "    L = Column(Float)\n",
    "    R = Column(Float)\n",
    "    A_M = Column(Float)\n",
    "    Color = Column(Text)\n",
    "    Spectral_Class = Column(Text)\n",
    "    Type = Column(Integer)"
   ]
  },
  {
   "cell_type": "code",
   "execution_count": 8,
   "metadata": {},
   "outputs": [],
   "source": [
    "# UFO\n",
    "class ufo(Base):\n",
    "    __tablename__ = \"ufo_sightings\"\n",
    "    \n",
    "    id = Column(Integer, primary_key=True)\n",
    "    date_occured = Column(Text)\n",
    "    time_occured = Column(Text)\n",
    "    city = Column(Text)\n",
    "    state = Column(Text)\n",
    "    country = Column(Text)\n",
    "    shape = Column(Text)\n",
    "    duration_seconds = Column(Integer)\n",
    "    duration_hours_min = Column(Text)\n",
    "    comments = Column(Text)\n",
    "    date_posted = Column(Text)\n",
    "    latitude = Column(Integer)\n",
    "    longitude = Column(Integer)"
   ]
  },
  {
   "cell_type": "markdown",
   "metadata": {},
   "source": [
    "When just trying type as Date or Time (or datetime, timestamp, sql_variant) get:\n",
    "\n",
    "These codes worked in jupyter notebook\n",
    " \n",
    "class ufo(Base):\n",
    "\n",
    "     __tablename__ = \"ufo_sightings\"\n",
    "    \n",
    "     id = Column(Integer, primary_key=True)\n",
    "     date_occured = Column(sqlalchemy.Date)\n",
    "     time_occured = Column(sqlalchemy.Time)\n",
    "\n",
    "but get \n",
    "StatementError: (builtins.TypeError) SQLite Date type only accepts Python date objects as input.\n",
    " when attempting to put in sqlite db\n",
    " \n",
    " ######################################################################\n",
    " \n",
    "\"SQLite does not have a storage class set aside for storing dates and/or times. Instead, the built-in Date And Time Functions of SQLite are capable of storing dates and times as TEXT, REAL, or INTEGER values:\n",
    "\n",
    "TEXT as ISO8601 strings (\"YYYY-MM-DD HH:MM:SS.SSS\").\n",
    "REAL as Julian day numbers, the number of days since noon in Greenwich on November 24, 4714 B.C. according to the proleptic Gregorian calendar.\n",
    "INTEGER as Unix Time, the number of seconds since 1970-01-01 00:00:00 UTC\"\n",
    "\n",
    "Source=\n",
    "https://www.w3resource.com/sqlite/sqlite-data-types.php"
   ]
  },
  {
   "cell_type": "code",
   "execution_count": 9,
   "metadata": {},
   "outputs": [],
   "source": [
    "# create all tables reflect to bind\n",
    "Base.metadata.create_all(engine)\n",
    "metadata = MetaData(bind=engine)\n",
    "metadata.reflect()"
   ]
  },
  {
   "cell_type": "markdown",
   "metadata": {},
   "source": [
    "### Use Pandas to read csv into a list of row objects"
   ]
  },
  {
   "cell_type": "code",
   "execution_count": 10,
   "metadata": {},
   "outputs": [],
   "source": [
    "df = pd.read_csv(asteroid_csv[0], dtype=object)\n",
    "impacts_data = df.to_dict(orient='records')\n",
    "\n",
    "df = pd.read_csv(asteroid_csv[1], dtype=object)\n",
    "orbits_data = df.to_dict(orient='records')\n",
    "\n",
    "df = pd.read_csv(stars_csv, dtype=object)\n",
    "stars_data = df.to_dict(orient='records')\n",
    "\n",
    "df = pd.read_csv(ufo_csv, dtype=object)\n",
    "ufo_data = df.to_dict(orient='records')"
   ]
  },
  {
   "cell_type": "markdown",
   "metadata": {},
   "source": [
    "### Insert data into table using SQLAlchemy"
   ]
  },
  {
   "cell_type": "code",
   "execution_count": 11,
   "metadata": {},
   "outputs": [],
   "source": [
    "impacts_table = sqlalchemy.Table('asteroid_impacts', metadata, PrimaryKeyConstraint('id'),\n",
    "                            autoload=True, extend_existing=True)\n",
    "\n",
    "orbits_table = sqlalchemy.Table('asteroid_orbits', metadata, PrimaryKeyConstraint('id'),\n",
    "                            autoload=True, extend_existing=True)\n",
    "\n",
    "stars_table = sqlalchemy.Table('star_classification', metadata, PrimaryKeyConstraint('id'),\n",
    "                            autoload=True, extend_existing=True)\n",
    "\n",
    "ufo_table = sqlalchemy.Table('ufo_sightings', metadata, PrimaryKeyConstraint('id'),\n",
    "                            autoload=True, extend_existing=True)"
   ]
  },
  {
   "cell_type": "markdown",
   "metadata": {},
   "source": [
    "### Execute (old) delete() and  execute (new) insert ()"
   ]
  },
  {
   "cell_type": "code",
   "execution_count": 12,
   "metadata": {},
   "outputs": [
    {
     "data": {
      "text/plain": [
       "<sqlalchemy.engine.result.ResultProxy at 0x2320ae3aba8>"
      ]
     },
     "execution_count": 12,
     "metadata": {},
     "output_type": "execute_result"
    }
   ],
   "source": [
    "conn.execute(impacts_table.delete())\n",
    "conn.execute(impacts_table.insert(), impacts_data)"
   ]
  },
  {
   "cell_type": "code",
   "execution_count": 13,
   "metadata": {},
   "outputs": [
    {
     "data": {
      "text/plain": [
       "<sqlalchemy.engine.result.ResultProxy at 0x2320a5d7cc0>"
      ]
     },
     "execution_count": 13,
     "metadata": {},
     "output_type": "execute_result"
    }
   ],
   "source": [
    "conn.execute(orbits_table.delete())\n",
    "conn.execute(orbits_table.insert(), orbits_data)"
   ]
  },
  {
   "cell_type": "code",
   "execution_count": 14,
   "metadata": {},
   "outputs": [
    {
     "data": {
      "text/plain": [
       "<sqlalchemy.engine.result.ResultProxy at 0x23208554d68>"
      ]
     },
     "execution_count": 14,
     "metadata": {},
     "output_type": "execute_result"
    }
   ],
   "source": [
    "conn.execute(stars_table.delete())\n",
    "conn.execute(stars_table.insert(), stars_data)"
   ]
  },
  {
   "cell_type": "code",
   "execution_count": 15,
   "metadata": {},
   "outputs": [
    {
     "data": {
      "text/plain": [
       "<sqlalchemy.engine.result.ResultProxy at 0x2320ae4b748>"
      ]
     },
     "execution_count": 15,
     "metadata": {},
     "output_type": "execute_result"
    }
   ],
   "source": [
    "conn.execute(ufo_table.delete())\n",
    "conn.execute(ufo_table.insert(), ufo_data)"
   ]
  },
  {
   "cell_type": "code",
   "execution_count": null,
   "metadata": {},
   "outputs": [],
   "source": [
    "\n"
   ]
  }
 ],
 "metadata": {
  "kernelspec": {
   "display_name": "Python [conda env:PythonData] *",
   "language": "python",
   "name": "conda-env-PythonData-py"
  },
  "language_info": {
   "codemirror_mode": {
    "name": "ipython",
    "version": 3
   },
   "file_extension": ".py",
   "mimetype": "text/x-python",
   "name": "python",
   "nbconvert_exporter": "python",
   "pygments_lexer": "ipython3",
   "version": "3.6.10"
  }
 },
 "nbformat": 4,
 "nbformat_minor": 4
}
